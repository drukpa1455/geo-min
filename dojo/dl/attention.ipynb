import torch
import torch.nn as nn
import torch.nn.functional as F

class SingleHeadAttention(nn.Module):
    def __init__(self, input_size):
        super(SingleHeadAttention, self).__init__()
        
        self.query_transform = nn.Linear(input_size, input_size)
        self.key_transform = nn.Linear(input_size, input_size)
        self.value_transform = nn.Linear(input_size, input_size)

    def forward(self, x):
        # Compute query, key, and value vectors
        query = self.query_transform(x)
        key = self.key_transform(x)
        value = self.value_transform(x)

        # Compute similarity scores
        scores = torch.matmul(query, key.transpose(-2, -1))
        
        # Compute attention weights using softmax
        weights = F.softmax(scores, dim=-1)
        
        # Compute weighted sum of values
        weighted_sum = torch.matmul(weights, value)
        
        return weighted_sum

# Example usage
input_size = 64
sequence_length = 10
batch_size = 32

# Generate random input tensor
x = torch.randn(batch_size, sequence_length, input_size)

# Create and apply single-head attention
attention = SingleHeadAttention(input_size)
output = attention(x)

print("Input shape:", x.shape)
print("Output shape:", output.shape)

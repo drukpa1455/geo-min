{
 "cells": [
  {
   "attachments": {},
   "cell_type": "markdown",
   "metadata": {},
   "source": [
    "# Setup"
   ]
  },
  {
   "cell_type": "code",
   "execution_count": 1,
   "metadata": {},
   "outputs": [
    {
     "name": "stdout",
     "output_type": "stream",
     "text": [
      "Python 3.9.7\n"
     ]
    }
   ],
   "source": [
    "#!python --version\n",
    "#Python 3.9.7"
   ]
  },
  {
   "attachments": {},
   "cell_type": "markdown",
   "metadata": {},
   "source": [
    "## Install"
   ]
  },
  {
   "cell_type": "code",
   "execution_count": 3,
   "metadata": {},
   "outputs": [
    {
     "name": "stdout",
     "output_type": "stream",
     "text": [
      "Looking in links: https://data.pyg.org/whl/torch-2.0.0+cpu.html\n",
      "Collecting pyg_lib\n",
      "  Downloading https://data.pyg.org/whl/torch-2.0.0%2Bcpu/pyg_lib-0.2.0%2Bpt20-cp311-cp311-macosx_10_15_universal2.whl (739 kB)\n",
      "\u001b[2K     \u001b[90m━━━━━━━━━━━━━━━━━━━━━━━━━━━━━━━━━━━━━━━\u001b[0m \u001b[32m739.5/739.5 kB\u001b[0m \u001b[31m2.1 MB/s\u001b[0m eta \u001b[36m0:00:00\u001b[0m00:01\u001b[0m00:01\u001b[0m\n",
      "\u001b[?25hCollecting torch_scatter\n",
      "  Downloading https://data.pyg.org/whl/torch-2.0.0%2Bcpu/torch_scatter-2.1.1-cp311-cp311-macosx_10_9_universal2.whl (347 kB)\n",
      "\u001b[2K     \u001b[90m━━━━━━━━━━━━━━━━━━━━━━━━━━━━━━━━━━━━━━\u001b[0m \u001b[32m347.2/347.2 kB\u001b[0m \u001b[31m10.0 MB/s\u001b[0m eta \u001b[36m0:00:00\u001b[0m\n",
      "\u001b[?25hCollecting torch_sparse\n",
      "  Downloading https://data.pyg.org/whl/torch-2.0.0%2Bcpu/torch_sparse-0.6.17-cp311-cp311-macosx_10_9_universal2.whl (635 kB)\n",
      "\u001b[2K     \u001b[90m━━━━━━━━━━━━━━━━━━━━━━━━━━━━━━━━━━━━━━\u001b[0m \u001b[32m636.0/636.0 kB\u001b[0m \u001b[31m12.6 MB/s\u001b[0m eta \u001b[36m0:00:00\u001b[0m00:01\u001b[0m\n",
      "\u001b[?25hCollecting torch_cluster\n",
      "  Downloading https://data.pyg.org/whl/torch-2.0.0%2Bcpu/torch_cluster-1.6.1-cp311-cp311-macosx_10_9_universal2.whl (307 kB)\n",
      "\u001b[2K     \u001b[90m━━━━━━━━━━━━━━━━━━━━━━━━━━━━━━━━━━━━━━━\u001b[0m \u001b[32m307.2/307.2 kB\u001b[0m \u001b[31m1.2 MB/s\u001b[0m eta \u001b[36m0:00:00\u001b[0ma \u001b[36m0:00:01\u001b[0m\n",
      "\u001b[?25hCollecting torch_spline_conv\n",
      "  Downloading https://data.pyg.org/whl/torch-2.0.0%2Bcpu/torch_spline_conv-1.2.2-cp311-cp311-macosx_10_9_universal2.whl (105 kB)\n",
      "\u001b[2K     \u001b[90m━━━━━━━━━━━━━━━━━━━━━━━━━━━━━━━━━━━━━━━\u001b[0m \u001b[32m106.0/106.0 kB\u001b[0m \u001b[31m9.6 MB/s\u001b[0m eta \u001b[36m0:00:00\u001b[0m\n",
      "\u001b[?25hRequirement already satisfied: scipy in /Users/drkp4/.pyenv/versions/3.11.4/envs/dEnv/lib/python3.11/site-packages (from torch_sparse) (1.10.1)\n",
      "Requirement already satisfied: numpy<1.27.0,>=1.19.5 in /Users/drkp4/.pyenv/versions/3.11.4/envs/dEnv/lib/python3.11/site-packages (from scipy->torch_sparse) (1.25.0)\n",
      "Installing collected packages: torch_spline_conv, torch_scatter, pyg_lib, torch_sparse, torch_cluster\n",
      "Successfully installed pyg_lib-0.2.0+pt20 torch_cluster-1.6.1 torch_scatter-2.1.1 torch_sparse-0.6.17 torch_spline_conv-1.2.2\n",
      "Note: you may need to restart the kernel to use updated packages.\n"
     ]
    }
   ],
   "source": [
    "%pip install pyg_lib torch_scatter torch_sparse torch_cluster torch_spline_conv -f https://data.pyg.org/whl/torch-2.0.0+cpu.html"
   ]
  },
  {
   "cell_type": "code",
   "execution_count": 5,
   "metadata": {},
   "outputs": [
    {
     "name": "stdout",
     "output_type": "stream",
     "text": [
      "Collecting torch-geometric-temporal\n",
      "  Using cached torch_geometric_temporal-0.54.0.tar.gz (48 kB)\n",
      "  Installing build dependencies ... \u001b[?25ldone\n",
      "\u001b[?25h  Getting requirements to build wheel ... \u001b[?25ldone\n",
      "\u001b[?25h  Preparing metadata (pyproject.toml) ... \u001b[?25ldone\n",
      "\u001b[?25hCollecting decorator==4.4.2 (from torch-geometric-temporal)\n",
      "  Using cached decorator-4.4.2-py2.py3-none-any.whl (9.2 kB)\n",
      "Requirement already satisfied: torch in /Users/drkp4/.pyenv/versions/3.11.4/envs/dEnv/lib/python3.11/site-packages (from torch-geometric-temporal) (2.0.1)\n",
      "Collecting cython (from torch-geometric-temporal)\n",
      "  Using cached Cython-0.29.35-py2.py3-none-any.whl (988 kB)\n",
      "Collecting pandas<=1.3.5 (from torch-geometric-temporal)\n",
      "  Using cached pandas-1.3.5.tar.gz (4.7 MB)\n",
      "  Installing build dependencies ... \u001b[?25ldone\n",
      "\u001b[?25h  Getting requirements to build wheel ... \u001b[?25ldone\n",
      "\u001b[?25h  Preparing metadata (pyproject.toml) ... \u001b[?25ldone\n",
      "\u001b[?25hRequirement already satisfied: torch-sparse in /Users/drkp4/.pyenv/versions/3.11.4/envs/dEnv/lib/python3.11/site-packages (from torch-geometric-temporal) (0.6.17)\n",
      "Requirement already satisfied: torch-scatter in /Users/drkp4/.pyenv/versions/3.11.4/envs/dEnv/lib/python3.11/site-packages (from torch-geometric-temporal) (2.1.1)\n",
      "Requirement already satisfied: torch-geometric in /Users/drkp4/.pyenv/versions/3.11.4/envs/dEnv/lib/python3.11/site-packages (from torch-geometric-temporal) (2.3.1)\n",
      "Requirement already satisfied: numpy in /Users/drkp4/.pyenv/versions/3.11.4/envs/dEnv/lib/python3.11/site-packages (from torch-geometric-temporal) (1.25.0)\n",
      "Requirement already satisfied: six in /Users/drkp4/.pyenv/versions/3.11.4/envs/dEnv/lib/python3.11/site-packages (from torch-geometric-temporal) (1.16.0)\n",
      "Requirement already satisfied: networkx in /Users/drkp4/.pyenv/versions/3.11.4/envs/dEnv/lib/python3.11/site-packages (from torch-geometric-temporal) (3.1)\n",
      "Requirement already satisfied: python-dateutil>=2.7.3 in /Users/drkp4/.pyenv/versions/3.11.4/envs/dEnv/lib/python3.11/site-packages (from pandas<=1.3.5->torch-geometric-temporal) (2.8.2)\n",
      "Requirement already satisfied: pytz>=2017.3 in /Users/drkp4/.pyenv/versions/3.11.4/envs/dEnv/lib/python3.11/site-packages (from pandas<=1.3.5->torch-geometric-temporal) (2023.3)\n",
      "Requirement already satisfied: filelock in /Users/drkp4/.pyenv/versions/3.11.4/envs/dEnv/lib/python3.11/site-packages (from torch->torch-geometric-temporal) (3.12.2)\n",
      "Requirement already satisfied: typing-extensions in /Users/drkp4/.pyenv/versions/3.11.4/envs/dEnv/lib/python3.11/site-packages (from torch->torch-geometric-temporal) (4.6.3)\n",
      "Requirement already satisfied: sympy in /Users/drkp4/.pyenv/versions/3.11.4/envs/dEnv/lib/python3.11/site-packages (from torch->torch-geometric-temporal) (1.12)\n",
      "Requirement already satisfied: jinja2 in /Users/drkp4/.pyenv/versions/3.11.4/envs/dEnv/lib/python3.11/site-packages (from torch->torch-geometric-temporal) (3.1.2)\n",
      "Requirement already satisfied: tqdm in /Users/drkp4/.pyenv/versions/3.11.4/envs/dEnv/lib/python3.11/site-packages (from torch-geometric->torch-geometric-temporal) (4.65.0)\n",
      "Requirement already satisfied: scipy in /Users/drkp4/.pyenv/versions/3.11.4/envs/dEnv/lib/python3.11/site-packages (from torch-geometric->torch-geometric-temporal) (1.10.1)\n",
      "Requirement already satisfied: requests in /Users/drkp4/.pyenv/versions/3.11.4/envs/dEnv/lib/python3.11/site-packages (from torch-geometric->torch-geometric-temporal) (2.31.0)\n",
      "Requirement already satisfied: pyparsing in /Users/drkp4/.pyenv/versions/3.11.4/envs/dEnv/lib/python3.11/site-packages (from torch-geometric->torch-geometric-temporal) (3.1.0)\n",
      "Requirement already satisfied: scikit-learn in /Users/drkp4/.pyenv/versions/3.11.4/envs/dEnv/lib/python3.11/site-packages (from torch-geometric->torch-geometric-temporal) (1.2.2)\n",
      "Requirement already satisfied: psutil>=5.8.0 in /Users/drkp4/.pyenv/versions/3.11.4/envs/dEnv/lib/python3.11/site-packages (from torch-geometric->torch-geometric-temporal) (5.9.5)\n",
      "Requirement already satisfied: MarkupSafe>=2.0 in /Users/drkp4/.pyenv/versions/3.11.4/envs/dEnv/lib/python3.11/site-packages (from jinja2->torch->torch-geometric-temporal) (2.1.3)\n",
      "Requirement already satisfied: charset-normalizer<4,>=2 in /Users/drkp4/.pyenv/versions/3.11.4/envs/dEnv/lib/python3.11/site-packages (from requests->torch-geometric->torch-geometric-temporal) (3.1.0)\n",
      "Requirement already satisfied: idna<4,>=2.5 in /Users/drkp4/.pyenv/versions/3.11.4/envs/dEnv/lib/python3.11/site-packages (from requests->torch-geometric->torch-geometric-temporal) (3.4)\n",
      "Requirement already satisfied: urllib3<3,>=1.21.1 in /Users/drkp4/.pyenv/versions/3.11.4/envs/dEnv/lib/python3.11/site-packages (from requests->torch-geometric->torch-geometric-temporal) (2.0.3)\n",
      "Requirement already satisfied: certifi>=2017.4.17 in /Users/drkp4/.pyenv/versions/3.11.4/envs/dEnv/lib/python3.11/site-packages (from requests->torch-geometric->torch-geometric-temporal) (2023.5.7)\n",
      "Requirement already satisfied: joblib>=1.1.1 in /Users/drkp4/.pyenv/versions/3.11.4/envs/dEnv/lib/python3.11/site-packages (from scikit-learn->torch-geometric->torch-geometric-temporal) (1.2.0)\n",
      "Requirement already satisfied: threadpoolctl>=2.0.0 in /Users/drkp4/.pyenv/versions/3.11.4/envs/dEnv/lib/python3.11/site-packages (from scikit-learn->torch-geometric->torch-geometric-temporal) (3.1.0)\n",
      "Requirement already satisfied: mpmath>=0.19 in /Users/drkp4/.pyenv/versions/3.11.4/envs/dEnv/lib/python3.11/site-packages (from sympy->torch->torch-geometric-temporal) (1.3.0)\n",
      "Building wheels for collected packages: torch-geometric-temporal, pandas\n",
      "  Building wheel for torch-geometric-temporal (pyproject.toml) ... \u001b[?25ldone\n",
      "\u001b[?25h  Created wheel for torch-geometric-temporal: filename=torch_geometric_temporal-0.54.0-py3-none-any.whl size=86726 sha256=f858d167d5a35f8aceba5baf7592f59a4681f15b71c7bf9c8da332ca02156e62\n",
      "  Stored in directory: /Users/drkp4/Library/Caches/pip/wheels/73/e1/7e/241df4afecc89c69dece70c49a2d728b4926d9594683e31adb\n",
      "  Building wheel for pandas (pyproject.toml) ... \u001b[?25ldone\n",
      "\u001b[?25h  Created wheel for pandas: filename=pandas-1.3.5-cp311-cp311-macosx_13_0_arm64.whl size=10005707 sha256=4655daed32b3110117ab7b15f489118b3a6f094d93ea219967e49e98d4767232\n",
      "  Stored in directory: /Users/drkp4/Library/Caches/pip/wheels/8b/e7/6d/d4c288f419ab8fa07c1db6f606a2ae18ecf3dc2839d79a1c07\n",
      "Successfully built torch-geometric-temporal pandas\n",
      "Installing collected packages: decorator, cython, pandas, torch-geometric-temporal\n",
      "  Attempting uninstall: decorator\n",
      "    Found existing installation: decorator 5.1.1\n",
      "    Uninstalling decorator-5.1.1:\n",
      "      Successfully uninstalled decorator-5.1.1\n",
      "  Attempting uninstall: pandas\n",
      "    Found existing installation: pandas 2.0.2\n",
      "    Uninstalling pandas-2.0.2:\n",
      "      Successfully uninstalled pandas-2.0.2\n",
      "Successfully installed cython-0.29.35 decorator-4.4.2 pandas-1.3.5 torch-geometric-temporal-0.54.0\n",
      "Note: you may need to restart the kernel to use updated packages.\n"
     ]
    }
   ],
   "source": [
    "%pip install torch-geometric-temporal"
   ]
  },
  {
   "attachments": {},
   "cell_type": "markdown",
   "metadata": {},
   "source": [
    "## Import"
   ]
  },
  {
   "cell_type": "code",
   "execution_count": 2,
   "metadata": {},
   "outputs": [],
   "source": [
    "import torch"
   ]
  },
  {
   "cell_type": "code",
   "execution_count": 6,
   "metadata": {},
   "outputs": [],
   "source": [
    "import torch_geometric"
   ]
  },
  {
   "cell_type": "code",
   "execution_count": 8,
   "metadata": {},
   "outputs": [
    {
     "ename": "OSError",
     "evalue": "dlopen(/Users/drkp4/.pyenv/versions/3.11.4/envs/dEnv/lib/python3.11/site-packages/torch_sparse/_version_cpu.so, 0x0006): tried: '/Users/drkp4/.pyenv/versions/3.11.4/envs/dEnv/lib/python3.11/site-packages/torch_sparse/_version_cpu.so' (mach-o file, but is an incompatible architecture (have 'x86_64', need 'arm64')), '/System/Volumes/Preboot/Cryptexes/OS/Users/drkp4/.pyenv/versions/3.11.4/envs/dEnv/lib/python3.11/site-packages/torch_sparse/_version_cpu.so' (no such file), '/Users/drkp4/.pyenv/versions/3.11.4/envs/dEnv/lib/python3.11/site-packages/torch_sparse/_version_cpu.so' (mach-o file, but is an incompatible architecture (have 'x86_64', need 'arm64'))",
     "output_type": "error",
     "traceback": [
      "\u001b[0;31m---------------------------------------------------------------------------\u001b[0m",
      "\u001b[0;31mOSError\u001b[0m                                   Traceback (most recent call last)",
      "Cell \u001b[0;32mIn[8], line 1\u001b[0m\n\u001b[0;32m----> 1\u001b[0m \u001b[39mimport\u001b[39;00m \u001b[39mtorch_geometric_temporal\u001b[39;00m\n",
      "File \u001b[0;32m~/.pyenv/versions/3.11.4/envs/dEnv/lib/python3.11/site-packages/torch_geometric_temporal/__init__.py:1\u001b[0m\n\u001b[0;32m----> 1\u001b[0m \u001b[39mfrom\u001b[39;00m \u001b[39mtorch_geometric_temporal\u001b[39;00m\u001b[39m.\u001b[39;00m\u001b[39mnn\u001b[39;00m \u001b[39mimport\u001b[39;00m \u001b[39m*\u001b[39m\n\u001b[1;32m      2\u001b[0m \u001b[39mfrom\u001b[39;00m \u001b[39mtorch_geometric_temporal\u001b[39;00m\u001b[39m.\u001b[39;00m\u001b[39mdataset\u001b[39;00m \u001b[39mimport\u001b[39;00m \u001b[39m*\u001b[39m\n\u001b[1;32m      3\u001b[0m \u001b[39mfrom\u001b[39;00m \u001b[39mtorch_geometric_temporal\u001b[39;00m\u001b[39m.\u001b[39;00m\u001b[39msignal\u001b[39;00m \u001b[39mimport\u001b[39;00m \u001b[39m*\u001b[39m\n",
      "File \u001b[0;32m~/.pyenv/versions/3.11.4/envs/dEnv/lib/python3.11/site-packages/torch_geometric_temporal/nn/__init__.py:1\u001b[0m\n\u001b[0;32m----> 1\u001b[0m \u001b[39mfrom\u001b[39;00m \u001b[39m.\u001b[39;00m\u001b[39mrecurrent\u001b[39;00m \u001b[39mimport\u001b[39;00m \u001b[39m*\u001b[39m\n\u001b[1;32m      2\u001b[0m \u001b[39mfrom\u001b[39;00m \u001b[39m.\u001b[39;00m\u001b[39mattention\u001b[39;00m \u001b[39mimport\u001b[39;00m \u001b[39m*\u001b[39m\n\u001b[1;32m      3\u001b[0m \u001b[39mfrom\u001b[39;00m \u001b[39m.\u001b[39;00m\u001b[39mhetero\u001b[39;00m \u001b[39mimport\u001b[39;00m \u001b[39m*\u001b[39m\n",
      "File \u001b[0;32m~/.pyenv/versions/3.11.4/envs/dEnv/lib/python3.11/site-packages/torch_geometric_temporal/nn/recurrent/__init__.py:6\u001b[0m\n\u001b[1;32m      4\u001b[0m \u001b[39mfrom\u001b[39;00m \u001b[39m.\u001b[39;00m\u001b[39mgc_lstm\u001b[39;00m \u001b[39mimport\u001b[39;00m GCLSTM\n\u001b[1;32m      5\u001b[0m \u001b[39mfrom\u001b[39;00m \u001b[39m.\u001b[39;00m\u001b[39mdygrae\u001b[39;00m \u001b[39mimport\u001b[39;00m DyGrEncoder\n\u001b[0;32m----> 6\u001b[0m \u001b[39mfrom\u001b[39;00m \u001b[39m.\u001b[39;00m\u001b[39mevolvegcnh\u001b[39;00m \u001b[39mimport\u001b[39;00m EvolveGCNH\n\u001b[1;32m      7\u001b[0m \u001b[39mfrom\u001b[39;00m \u001b[39m.\u001b[39;00m\u001b[39mevolvegcno\u001b[39;00m \u001b[39mimport\u001b[39;00m EvolveGCNO\n\u001b[1;32m      8\u001b[0m \u001b[39mfrom\u001b[39;00m \u001b[39m.\u001b[39;00m\u001b[39mdcrnn\u001b[39;00m \u001b[39mimport\u001b[39;00m DCRNN\n",
      "File \u001b[0;32m~/.pyenv/versions/3.11.4/envs/dEnv/lib/python3.11/site-packages/torch_geometric_temporal/nn/recurrent/evolvegcnh.py:5\u001b[0m\n\u001b[1;32m      2\u001b[0m \u001b[39mfrom\u001b[39;00m \u001b[39mtorch\u001b[39;00m\u001b[39m.\u001b[39;00m\u001b[39mnn\u001b[39;00m \u001b[39mimport\u001b[39;00m GRU\n\u001b[1;32m      3\u001b[0m \u001b[39mfrom\u001b[39;00m \u001b[39mtorch_geometric\u001b[39;00m\u001b[39m.\u001b[39;00m\u001b[39mnn\u001b[39;00m \u001b[39mimport\u001b[39;00m TopKPooling\n\u001b[0;32m----> 5\u001b[0m \u001b[39mfrom\u001b[39;00m \u001b[39m.\u001b[39;00m\u001b[39mevolvegcno\u001b[39;00m \u001b[39mimport\u001b[39;00m glorot, GCNConv_Fixed_W\n\u001b[1;32m      8\u001b[0m \u001b[39mclass\u001b[39;00m \u001b[39mEvolveGCNH\u001b[39;00m(torch\u001b[39m.\u001b[39mnn\u001b[39m.\u001b[39mModule):\n\u001b[1;32m      9\u001b[0m \u001b[39m    \u001b[39m\u001b[39mr\u001b[39m\u001b[39m\"\"\"An implementation of the Evolving Graph Convolutional Hidden Layer.\u001b[39;00m\n\u001b[1;32m     10\u001b[0m \u001b[39m    For details see this paper: `\"EvolveGCN: Evolving Graph Convolutional\u001b[39;00m\n\u001b[1;32m     11\u001b[0m \u001b[39m    Networks for Dynamic Graph.\" <https://arxiv.org/abs/1902.10191>`_\u001b[39;00m\n\u001b[0;32m   (...)\u001b[0m\n\u001b[1;32m     28\u001b[0m \u001b[39m            self-loops to the input graph. (default: :obj:`True`)\u001b[39;00m\n\u001b[1;32m     29\u001b[0m \u001b[39m    \"\"\"\u001b[39;00m\n",
      "File \u001b[0;32m~/.pyenv/versions/3.11.4/envs/dEnv/lib/python3.11/site-packages/torch_geometric_temporal/nn/recurrent/evolvegcno.py:7\u001b[0m\n\u001b[1;32m      5\u001b[0m \u001b[39mfrom\u001b[39;00m \u001b[39mtorch\u001b[39;00m\u001b[39m.\u001b[39;00m\u001b[39mnn\u001b[39;00m \u001b[39mimport\u001b[39;00m GRU\n\u001b[1;32m      6\u001b[0m \u001b[39mfrom\u001b[39;00m \u001b[39mtorch_geometric\u001b[39;00m\u001b[39m.\u001b[39;00m\u001b[39mtyping\u001b[39;00m \u001b[39mimport\u001b[39;00m Adj, OptTensor\n\u001b[0;32m----> 7\u001b[0m \u001b[39mfrom\u001b[39;00m \u001b[39mtorch_sparse\u001b[39;00m \u001b[39mimport\u001b[39;00m SparseTensor\n\u001b[1;32m      8\u001b[0m \u001b[39mfrom\u001b[39;00m \u001b[39mtorch_geometric\u001b[39;00m\u001b[39m.\u001b[39;00m\u001b[39mnn\u001b[39;00m\u001b[39m.\u001b[39;00m\u001b[39minits\u001b[39;00m \u001b[39mimport\u001b[39;00m glorot\n\u001b[1;32m      9\u001b[0m \u001b[39mfrom\u001b[39;00m \u001b[39mtorch_geometric\u001b[39;00m\u001b[39m.\u001b[39;00m\u001b[39mnn\u001b[39;00m\u001b[39m.\u001b[39;00m\u001b[39mconv\u001b[39;00m \u001b[39mimport\u001b[39;00m MessagePassing\n",
      "File \u001b[0;32m~/.pyenv/versions/3.11.4/envs/dEnv/lib/python3.11/site-packages/torch_sparse/__init__.py:18\u001b[0m\n\u001b[1;32m     16\u001b[0m spec \u001b[39m=\u001b[39m cuda_spec \u001b[39mor\u001b[39;00m cpu_spec\n\u001b[1;32m     17\u001b[0m \u001b[39mif\u001b[39;00m spec \u001b[39mis\u001b[39;00m \u001b[39mnot\u001b[39;00m \u001b[39mNone\u001b[39;00m:\n\u001b[0;32m---> 18\u001b[0m     torch\u001b[39m.\u001b[39;49mops\u001b[39m.\u001b[39;49mload_library(spec\u001b[39m.\u001b[39;49morigin)\n\u001b[1;32m     19\u001b[0m \u001b[39melse\u001b[39;00m:  \u001b[39m# pragma: no cover\u001b[39;00m\n\u001b[1;32m     20\u001b[0m     \u001b[39mraise\u001b[39;00m \u001b[39mImportError\u001b[39;00m(\u001b[39mf\u001b[39m\u001b[39m\"\u001b[39m\u001b[39mCould not find module \u001b[39m\u001b[39m'\u001b[39m\u001b[39m{\u001b[39;00mlibrary\u001b[39m}\u001b[39;00m\u001b[39m_cpu\u001b[39m\u001b[39m'\u001b[39m\u001b[39m in \u001b[39m\u001b[39m\"\u001b[39m\n\u001b[1;32m     21\u001b[0m                       \u001b[39mf\u001b[39m\u001b[39m\"\u001b[39m\u001b[39m{\u001b[39;00mosp\u001b[39m.\u001b[39mdirname(\u001b[39m__file__\u001b[39m)\u001b[39m}\u001b[39;00m\u001b[39m\"\u001b[39m)\n",
      "File \u001b[0;32m~/.pyenv/versions/3.11.4/envs/dEnv/lib/python3.11/site-packages/torch/_ops.py:643\u001b[0m, in \u001b[0;36m_Ops.load_library\u001b[0;34m(self, path)\u001b[0m\n\u001b[1;32m    638\u001b[0m path \u001b[39m=\u001b[39m _utils_internal\u001b[39m.\u001b[39mresolve_library_path(path)\n\u001b[1;32m    639\u001b[0m \u001b[39mwith\u001b[39;00m dl_open_guard():\n\u001b[1;32m    640\u001b[0m     \u001b[39m# Import the shared library into the process, thus running its\u001b[39;00m\n\u001b[1;32m    641\u001b[0m     \u001b[39m# static (global) initialization code in order to register custom\u001b[39;00m\n\u001b[1;32m    642\u001b[0m     \u001b[39m# operators with the JIT.\u001b[39;00m\n\u001b[0;32m--> 643\u001b[0m     ctypes\u001b[39m.\u001b[39;49mCDLL(path)\n\u001b[1;32m    644\u001b[0m \u001b[39mself\u001b[39m\u001b[39m.\u001b[39mloaded_libraries\u001b[39m.\u001b[39madd(path)\n",
      "File \u001b[0;32m~/.pyenv/versions/3.11.4/lib/python3.11/ctypes/__init__.py:376\u001b[0m, in \u001b[0;36mCDLL.__init__\u001b[0;34m(self, name, mode, handle, use_errno, use_last_error, winmode)\u001b[0m\n\u001b[1;32m    373\u001b[0m \u001b[39mself\u001b[39m\u001b[39m.\u001b[39m_FuncPtr \u001b[39m=\u001b[39m _FuncPtr\n\u001b[1;32m    375\u001b[0m \u001b[39mif\u001b[39;00m handle \u001b[39mis\u001b[39;00m \u001b[39mNone\u001b[39;00m:\n\u001b[0;32m--> 376\u001b[0m     \u001b[39mself\u001b[39m\u001b[39m.\u001b[39m_handle \u001b[39m=\u001b[39m _dlopen(\u001b[39mself\u001b[39;49m\u001b[39m.\u001b[39;49m_name, mode)\n\u001b[1;32m    377\u001b[0m \u001b[39melse\u001b[39;00m:\n\u001b[1;32m    378\u001b[0m     \u001b[39mself\u001b[39m\u001b[39m.\u001b[39m_handle \u001b[39m=\u001b[39m handle\n",
      "\u001b[0;31mOSError\u001b[0m: dlopen(/Users/drkp4/.pyenv/versions/3.11.4/envs/dEnv/lib/python3.11/site-packages/torch_sparse/_version_cpu.so, 0x0006): tried: '/Users/drkp4/.pyenv/versions/3.11.4/envs/dEnv/lib/python3.11/site-packages/torch_sparse/_version_cpu.so' (mach-o file, but is an incompatible architecture (have 'x86_64', need 'arm64')), '/System/Volumes/Preboot/Cryptexes/OS/Users/drkp4/.pyenv/versions/3.11.4/envs/dEnv/lib/python3.11/site-packages/torch_sparse/_version_cpu.so' (no such file), '/Users/drkp4/.pyenv/versions/3.11.4/envs/dEnv/lib/python3.11/site-packages/torch_sparse/_version_cpu.so' (mach-o file, but is an incompatible architecture (have 'x86_64', need 'arm64'))"
     ]
    }
   ],
   "source": [
    "import torch_geometric_temporal"
   ]
  },
  {
   "cell_type": "code",
   "execution_count": null,
   "metadata": {},
   "outputs": [],
   "source": []
  }
 ],
 "metadata": {
  "kernelspec": {
   "display_name": "geotemp",
   "language": "python",
   "name": "python3"
  },
  "language_info": {
   "codemirror_mode": {
    "name": "ipython",
    "version": 3
   },
   "file_extension": ".py",
   "mimetype": "text/x-python",
   "name": "python",
   "nbconvert_exporter": "python",
   "pygments_lexer": "ipython3",
   "version": "3.11.4"
  },
  "orig_nbformat": 4
 },
 "nbformat": 4,
 "nbformat_minor": 2
}
